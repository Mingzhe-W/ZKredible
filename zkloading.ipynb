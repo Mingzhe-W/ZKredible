{
  "nbformat": 4,
  "nbformat_minor": 0,
  "metadata": {
    "colab": {
      "provenance": [],
      "include_colab_link": true
    },
    "kernelspec": {
      "name": "python3",
      "display_name": "Python 3"
    },
    "language_info": {
      "name": "python"
    }
  },
  "cells": [
    {
      "cell_type": "markdown",
      "metadata": {
        "id": "view-in-github",
        "colab_type": "text"
      },
      "source": [
        "<a href=\"https://colab.research.google.com/github/Mingzhe-W/zk_lending/blob/main/zkloading.ipynb\" target=\"_parent\"><img src=\"https://colab.research.google.com/assets/colab-badge.svg\" alt=\"Open In Colab\"/></a>"
      ]
    },
    {
      "cell_type": "markdown",
      "source": [
        "Data Preparation"
      ],
      "metadata": {
        "id": "MElqTYMAnCZN"
      }
    },
    {
      "cell_type": "code",
      "source": [
        "# Importing necessary Libraries\n",
        "import warnings\n",
        "import pandas as pd\n",
        "import numpy as np\n",
        "import tensorflow as tf\n",
        "import seaborn as sns\n",
        "import matplotlib.pyplot as plt\n",
        "\n",
        "from sklearn import preprocessing\n",
        "from keras.regularizers import l2\n",
        "from sklearn import metrics\n",
        "from sklearn .metrics import accuracy_score\n",
        "from sklearn.model_selection import train_test_split\n",
        "from statsmodels.stats.outliers_influence import variance_inflation_factor\n",
        "\n",
        "\n",
        "pd.set_option('display.max_columns',None)\n",
        "warnings.filterwarnings('ignore')\n",
        "%matplotlib inline\n",
        "\n",
        "# Loading and Exploring Data\n",
        "df = pd.read_csv(\"/content/train.csv\")\n",
        "\n",
        "# Dropping irrelevant features\n",
        "df_c = df.copy()\n",
        "df_c.drop(['ID' ,'Customer_ID' ,'Month' ,'Name', 'Type_of_Loan', 'Credit_History_Age', 'SSN'], axis=1, inplace=True)\n",
        "\n",
        "# Dropping all observations with more than 3 missing values\n",
        "size_before_cleaning = df_c.shape\n",
        "df_c = df_c[df_c.isnull().sum(axis=1) < 3]\n",
        "# print(\"{} Records dropped\".format(size_before_cleaning[0] - df_c.shape[0]))\n",
        "\n",
        "def filter_general(value):\n",
        "    if '-' in str(value):\n",
        "        return str(value).split('-')[1]\n",
        "    elif '_' in str(value):\n",
        "        return str(value).split('_')[0]\n",
        "    else:\n",
        "        return str(value)\n",
        "\n",
        "def filter_delayed_payments(value):\n",
        "    if \"__\" in str(value):\n",
        "        return str(value).split(\"__\")[1]\n",
        "    elif '_' in str(value):\n",
        "        return str(value).replace(\"_\", \"\")\n",
        "    elif str(value) == '_':\n",
        "        return str(value)\n",
        "    else:\n",
        "        return str(value)\n",
        "\n",
        "def Amount_invested_monthly(col):\n",
        "    if \"__\" in str(col):\n",
        "        return str(col).split(\"__\")[1]\n",
        "    else:\n",
        "        return str(col)\n",
        "\n",
        "df_c[\"Amount_invested_monthly\"]=df_c[\"Amount_invested_monthly\"].apply(Amount_invested_monthly)\n",
        "df_c[\"Amount_invested_monthly\"]=df_c[\"Amount_invested_monthly\"].astype(\"float\")\n",
        "\n",
        "df_c[\"Changed_Credit_Limit\"]=df_c[\"Changed_Credit_Limit\"].apply(lambda x:x.split(\"-\")[-1])\n",
        "df_c.drop(df_c[df_c[\"Changed_Credit_Limit\"]==\"_\"].index,inplace=True)\n",
        "df_c[\"Changed_Credit_Limit\"]=df_c[\"Changed_Credit_Limit\"].astype(\"float\")\n",
        "\n",
        "df_c.drop(df_c[df_c[\"Monthly_Balance\"]=='__-333333333333333333333333333__'].index,inplace=True)\n",
        "for i in ['Age', 'Annual_Income', 'Num_of_Loan', 'Outstanding_Debt', 'Monthly_Balance']:\n",
        "    df_c[i] = df_c[i].apply(filter_general)\n",
        "    df_c[i] = df_c[i].astype(np.float64)\n",
        "    # print(i + \" Successfully Cleaned\")\n",
        "\n",
        "df_c['Num_of_Delayed_Payment'] = df_c['Num_of_Delayed_Payment'].apply(filter_delayed_payments)\n",
        "df_c['Num_of_Delayed_Payment'] = df_c['Num_of_Delayed_Payment'].astype(np.float64)\n",
        "\n",
        "df_c['Occupation'] = df_c['Occupation'].replace('_______', np.nan)\n",
        "df_c['Occupation'] = df_c['Occupation'].fillna(np.random.choice(pd.Series(['Scientist', 'Teacher', 'Engineer', 'Entrepreneur',\n",
        "       'Developer', 'Lawyer', 'Media_Manager', 'Doctor', 'Journalist',\n",
        "       'Manager', 'Accountant', 'Musician', 'Mechanic', 'Writer',\n",
        "       'Architect'])))\n",
        "\n",
        "df_c['Credit_Mix'] = df_c['Credit_Mix'].replace('_', np.nan)\n",
        "df_c['Credit_Mix'] = df_c['Credit_Mix'].fillna(np.random.choice(pd.Series(['Standard', 'Good', 'Bad'])))\n",
        "\n",
        "df_c['Payment_of_Min_Amount'] = df_c['Payment_of_Min_Amount'].replace('NM', np.nan)\n",
        "df_c['Payment_of_Min_Amount'] = df_c['Payment_of_Min_Amount'].fillna(np.random.choice(pd.Series(['Yes', 'No'])))\n",
        "\n",
        "df_c['Payment_Behaviour'] = df_c['Payment_Behaviour'].replace('!@9#%8', np.nan)\n",
        "df_c['Payment_Behaviour'] = df_c['Payment_Behaviour'].fillna(np.random.choice(pd.Series(['High_spent_Small_value_payments',\n",
        "       'Low_spent_Large_value_payments', 'Low_spent_Small_value_payments',\n",
        "       'High_spent_Medium_value_payments',\n",
        "       'High_spent_Large_value_payments',\n",
        "       'Low_spent_Medium_value_payments'])))\n",
        "\n",
        "for i in ['Monthly_Inhand_Salary', 'Num_of_Delayed_Payment', 'Num_Credit_Inquiries', 'Amount_invested_monthly']:\n",
        "    df_c[i].fillna(df_c[i].median(), inplace=True)\n",
        "\n",
        "df_c['Monthly_Balance'].fillna(df_c['Monthly_Balance'].median(), inplace=True)\n",
        "\n",
        "# # Data Visualization and Statistical insights\n",
        "# df_c.describe(include='all').style.background_gradient(cmap='Blues').set_properties(**{'font-family':'Segoe UI'})\n",
        "# df_c.hist(bins=200,figsize=[20,10])\n",
        "\n",
        "numeric_cols = df_c.select_dtypes(exclude = \"object\").columns\n",
        "cat_cols = df_c.select_dtypes(include = \"object\").columns\n",
        "# Dealing with outliers¶\n",
        "def box_plot(df_c, num_cols):\n",
        "    plt.figure(figsize=(20, 15))\n",
        "    for i in range(len(num_cols)):\n",
        "        if i == 16:\n",
        "            break\n",
        "        else:\n",
        "            plt.subplot(4,4, i+1)\n",
        "            l = num_cols[i]\n",
        "            sns.boxplot(df_c[l], palette=\"flare\")\n",
        "\n",
        "# IQR = Quartile3 – Quartile1\n",
        "# upper = Q3 +1.5*IQR\n",
        "# lower = Q1 – 1.5*IQR\n",
        "df_c_n = df_c.copy()\n",
        "for i in numeric_cols:\n",
        "    ''' Detection '''\n",
        "    # IQR\n",
        "    Q1 = np.percentile(df_c_n[i], 0.05,interpolation = 'midpoint')\n",
        "    Q3 = np.percentile(df_c_n[i], 99.95,interpolation = 'midpoint')\n",
        "    # print(\"@ Feature \" + i + \"...\")\n",
        "    # print(\"Old Shape: \", df_c_n.shape)\n",
        "    df_c_n[numeric_cols] = df_c_n[numeric_cols][(df_c_n[i] < Q3) & (df_c_n[i] > Q1)]\n",
        "    df_c_n.dropna(inplace=True)\n",
        "    # print(\"New Shape: \", df_c_n.shape)\n",
        "df_c_n.drop(df_c_n[df_c_n[\"Age\"] >= 80].index, inplace=True)\n",
        "df_c_n.drop(df_c_n[df_c_n[\"Annual_Income\"] >= 500000].index, inplace=True)\n",
        "df_c_n.drop(df_c_n[df_c_n[\"Num_Bank_Accounts\"] >= 20].index, inplace=True)\n",
        "df_c_n.drop(df_c_n[df_c_n[\"Num_Credit_Card\"] >= 50].index, inplace=True)\n",
        "df_c_n.drop(df_c_n[df_c_n[\"Num_of_Loan\"] >= 20].index, inplace=True)\n",
        "df_c_n.drop(df_c_n[df_c_n[\"Interest_Rate\"] >= 35].index, inplace=True)\n",
        "df_c_n.drop(df_c_n[df_c_n[\"Num_of_Delayed_Payment\"] >= 30].index, inplace=True)\n",
        "df_c_n.drop(df_c_n[df_c_n[\"Num_Credit_Inquiries\"] >= 100].index, inplace=True)\n",
        "df_c_n.drop(df_c_n[df_c_n[\"Total_EMI_per_month\"] >= 2000].index, inplace=True)\n",
        "df_c_n.drop(df_c_n[df_c_n[\"Amount_invested_monthly\"] >= 1000].index, inplace=True)\n",
        "\n",
        "# Handling numirical data\n",
        "numeric_cols = df_c.select_dtypes(exclude = \"object\").columns\n",
        "cat_cols = df_c.select_dtypes(include = \"object\").columns\n",
        "# print(numeric_cols)\n",
        "# print(cat_cols)\n",
        "df_num_clean = df_c_n[numeric_cols].copy()\n",
        "cols = numeric_cols\n",
        "\n",
        "def RobustScaling(df_num, cols):\n",
        "    scaler = preprocessing.RobustScaler()\n",
        "    robust_df_temp = scaler.fit_transform(df_num)\n",
        "    robust_df_temp = pd.DataFrame(robust_df_temp, columns =cols)\n",
        "    return robust_df_temp\n",
        "\n",
        "robust_scaled = RobustScaling(df_num_clean, numeric_cols)\n",
        "\n",
        "clean_df = df_c.copy()\n",
        "clean_df.drop(labels=numeric_cols, axis=\"columns\", inplace=True)\n",
        "clean_df[numeric_cols] = robust_scaled[numeric_cols]\n",
        "# clean_df.head()\n",
        "\n",
        "# Categorical data encoding\n",
        "clean_df['Credit_Score'].replace({\"Poor\":0, \"Standard\":1, \"Good\":1}, inplace=True)\n",
        "clean_df['Credit_Mix'].replace({\"Bad\":0, \"Standard\":1, \"Good\":2}, inplace=True)\n",
        "clean_df['Payment_of_Min_Amount'].replace({\"Yes\":1, \"No\":0}, inplace=True)\n",
        "clean_df = pd.get_dummies(clean_df, columns = ['Occupation', 'Payment_Behaviour'])\n",
        "clean_df = clean_df.drop(\"Credit_Mix\",'columns')\n",
        "\n",
        "for i in numeric_cols:\n",
        "    clean_df[i].fillna(method='ffill', inplace=True)\n",
        "\n",
        "# cut part of the dataset\n",
        "clean_df = clean_df[:2000]\n",
        "print(\"data cleaning completed. results as follows:\")\n",
        "clean_df.head()\n",
        "print(\"data info:\")\n",
        "clean_df.info()\n"
      ],
      "metadata": {
        "colab": {
          "base_uri": "https://localhost:8080/"
        },
        "id": "YiZYm0zJnA_5",
        "outputId": "4fda9c04-579e-44d7-de3b-0d0fb74f1b17"
      },
      "execution_count": 1,
      "outputs": [
        {
          "output_type": "stream",
          "name": "stdout",
          "text": [
            "data cleaning completed. results as follows:\n",
            "data info:\n",
            "<class 'pandas.core.frame.DataFrame'>\n",
            "Int64Index: 2000 entries, 0 to 2044\n",
            "Data columns (total 39 columns):\n",
            " #   Column                                              Non-Null Count  Dtype  \n",
            "---  ------                                              --------------  -----  \n",
            " 0   Payment_of_Min_Amount                               2000 non-null   int64  \n",
            " 1   Credit_Score                                        2000 non-null   int64  \n",
            " 2   Age                                                 2000 non-null   float64\n",
            " 3   Annual_Income                                       2000 non-null   float64\n",
            " 4   Monthly_Inhand_Salary                               2000 non-null   float64\n",
            " 5   Num_Bank_Accounts                                   2000 non-null   float64\n",
            " 6   Num_Credit_Card                                     2000 non-null   float64\n",
            " 7   Interest_Rate                                       2000 non-null   float64\n",
            " 8   Num_of_Loan                                         2000 non-null   float64\n",
            " 9   Delay_from_due_date                                 2000 non-null   float64\n",
            " 10  Num_of_Delayed_Payment                              2000 non-null   float64\n",
            " 11  Changed_Credit_Limit                                2000 non-null   float64\n",
            " 12  Num_Credit_Inquiries                                2000 non-null   float64\n",
            " 13  Outstanding_Debt                                    2000 non-null   float64\n",
            " 14  Credit_Utilization_Ratio                            2000 non-null   float64\n",
            " 15  Total_EMI_per_month                                 2000 non-null   float64\n",
            " 16  Amount_invested_monthly                             2000 non-null   float64\n",
            " 17  Monthly_Balance                                     2000 non-null   float64\n",
            " 18  Occupation_Accountant                               2000 non-null   uint8  \n",
            " 19  Occupation_Architect                                2000 non-null   uint8  \n",
            " 20  Occupation_Developer                                2000 non-null   uint8  \n",
            " 21  Occupation_Doctor                                   2000 non-null   uint8  \n",
            " 22  Occupation_Engineer                                 2000 non-null   uint8  \n",
            " 23  Occupation_Entrepreneur                             2000 non-null   uint8  \n",
            " 24  Occupation_Journalist                               2000 non-null   uint8  \n",
            " 25  Occupation_Lawyer                                   2000 non-null   uint8  \n",
            " 26  Occupation_Manager                                  2000 non-null   uint8  \n",
            " 27  Occupation_Mechanic                                 2000 non-null   uint8  \n",
            " 28  Occupation_Media_Manager                            2000 non-null   uint8  \n",
            " 29  Occupation_Musician                                 2000 non-null   uint8  \n",
            " 30  Occupation_Scientist                                2000 non-null   uint8  \n",
            " 31  Occupation_Teacher                                  2000 non-null   uint8  \n",
            " 32  Occupation_Writer                                   2000 non-null   uint8  \n",
            " 33  Payment_Behaviour_High_spent_Large_value_payments   2000 non-null   uint8  \n",
            " 34  Payment_Behaviour_High_spent_Medium_value_payments  2000 non-null   uint8  \n",
            " 35  Payment_Behaviour_High_spent_Small_value_payments   2000 non-null   uint8  \n",
            " 36  Payment_Behaviour_Low_spent_Large_value_payments    2000 non-null   uint8  \n",
            " 37  Payment_Behaviour_Low_spent_Medium_value_payments   2000 non-null   uint8  \n",
            " 38  Payment_Behaviour_Low_spent_Small_value_payments    2000 non-null   uint8  \n",
            "dtypes: float64(16), int64(2), uint8(21)\n",
            "memory usage: 337.9 KB\n"
          ]
        }
      ]
    },
    {
      "cell_type": "markdown",
      "source": [
        "Model Setup Part"
      ],
      "metadata": {
        "id": "IIiFLYeix3AD"
      }
    },
    {
      "cell_type": "code",
      "source": [
        "!pip install tenseal\n",
        "!pip install onnx\n",
        "!pip install ezkl"
      ],
      "metadata": {
        "colab": {
          "base_uri": "https://localhost:8080/"
        },
        "id": "8EYBtvdJyBEu",
        "outputId": "39576df5-9872-4ae1-bb1a-498fde01c5a5"
      },
      "execution_count": 2,
      "outputs": [
        {
          "output_type": "stream",
          "name": "stdout",
          "text": [
            "Requirement already satisfied: tenseal in /usr/local/lib/python3.10/dist-packages (0.3.14)\n",
            "Requirement already satisfied: onnx in /usr/local/lib/python3.10/dist-packages (1.14.1)\n",
            "Requirement already satisfied: numpy in /usr/local/lib/python3.10/dist-packages (from onnx) (1.23.5)\n",
            "Requirement already satisfied: protobuf>=3.20.2 in /usr/local/lib/python3.10/dist-packages (from onnx) (3.20.3)\n",
            "Requirement already satisfied: typing-extensions>=3.6.2.1 in /usr/local/lib/python3.10/dist-packages (from onnx) (4.5.0)\n",
            "Requirement already satisfied: ezkl in /usr/local/lib/python3.10/dist-packages (2.4.4)\n"
          ]
        }
      ]
    },
    {
      "cell_type": "code",
      "source": [
        "import torch\n",
        "import tenseal as ts\n",
        "import pandas as pd\n",
        "import random\n",
        "from time import time\n",
        "\n",
        "# those are optional and are not necessary for training\n",
        "import numpy as np\n",
        "import matplotlib.pyplot as plt"
      ],
      "metadata": {
        "id": "f9yve_AEx9V_"
      },
      "execution_count": 3,
      "outputs": []
    },
    {
      "cell_type": "markdown",
      "source": [
        "Data Preparation"
      ],
      "metadata": {
        "id": "7qusAaYXzH6Z"
      }
    },
    {
      "cell_type": "code",
      "source": [
        "torch.random.manual_seed(73)\n",
        "random.seed(73)\n",
        "\n",
        "\n",
        "def split_train_test(x, y, test_ratio=0.3):\n",
        "    idxs = [i for i in range(len(x))]\n",
        "    random.shuffle(idxs)\n",
        "    # delimiter between test and train data\n",
        "    delim = int(len(x) * test_ratio)\n",
        "    test_idxs, train_idxs = idxs[:delim], idxs[delim:]\n",
        "    return x[train_idxs], y[train_idxs], x[test_idxs], y[test_idxs]\n",
        "\n",
        "def credit_data():\n",
        "    data = clean_df.copy()\n",
        "    # extract labels\n",
        "    y = torch.tensor(clean_df['Credit_Score'].values).float().unsqueeze(1)\n",
        "    data = data.drop(\"Credit_Score\",'columns')\n",
        "    x = torch.tensor(data.values).float()\n",
        "    return split_train_test(x, y)\n",
        "\n",
        "x_train, y_train, x_test, y_test = credit_data()\n",
        "\n",
        "print(\"############# Data summary #############\")\n",
        "print(f\"x_train has shape: {x_train.shape}\")\n",
        "print(f\"y_train has shape: {y_train.shape}\")\n",
        "print(f\"x_test has shape: {x_test.shape}\")\n",
        "print(f\"y_test has shape: {y_test.shape}\")\n",
        "print(\"#######################################\")"
      ],
      "metadata": {
        "colab": {
          "base_uri": "https://localhost:8080/"
        },
        "id": "8PcTum2_ybZB",
        "outputId": "60e44d58-e3fa-45df-d4c3-a735f4a478bb"
      },
      "execution_count": 4,
      "outputs": [
        {
          "output_type": "stream",
          "name": "stdout",
          "text": [
            "############# Data summary #############\n",
            "x_train has shape: torch.Size([1400, 38])\n",
            "y_train has shape: torch.Size([1400, 1])\n",
            "x_test has shape: torch.Size([600, 38])\n",
            "y_test has shape: torch.Size([600, 1])\n",
            "#######################################\n"
          ]
        }
      ]
    },
    {
      "cell_type": "markdown",
      "source": [
        "Training a Logistic Regression Model"
      ],
      "metadata": {
        "id": "BtnRFu0my-Ib"
      }
    },
    {
      "cell_type": "code",
      "source": [
        "class LR(torch.nn.Module):\n",
        "\n",
        "    def __init__(self, n_features):\n",
        "        super(LR, self).__init__()\n",
        "        self.lr = torch.nn.Linear(n_features, 1)\n",
        "\n",
        "    def forward(self, x):\n",
        "        out = torch.sigmoid(self.lr(x))\n",
        "        return out"
      ],
      "metadata": {
        "id": "HJBjrMHozFGe"
      },
      "execution_count": 5,
      "outputs": []
    },
    {
      "cell_type": "code",
      "source": [
        "n_features = x_train.shape[1]\n",
        "model = LR(n_features)\n",
        "# use gradient descent with a learning_rate=1\n",
        "optim = torch.optim.SGD(model.parameters(), lr=1)\n",
        "# use Binary Cross Entropy Loss\n",
        "criterion = torch.nn.BCELoss()"
      ],
      "metadata": {
        "id": "2erC2NUTzQI_"
      },
      "execution_count": 6,
      "outputs": []
    },
    {
      "cell_type": "code",
      "source": [
        "# define the number of epochs for both plain and encrypted training\n",
        "EPOCHS = 10\n",
        "\n",
        "def train(model, optim, criterion, x, y, epochs=EPOCHS):\n",
        "    for e in range(1, epochs + 1):\n",
        "        optim.zero_grad()\n",
        "        out = model(x)\n",
        "        loss = criterion(out, y)\n",
        "        loss.backward()\n",
        "        optim.step()\n",
        "        print(f\"Loss at epoch {e}: {loss.data}\")\n",
        "    return model\n",
        "\n",
        "model = train(model, optim, criterion, x_train, y_train)"
      ],
      "metadata": {
        "colab": {
          "base_uri": "https://localhost:8080/"
        },
        "id": "JDLN9NCazSvR",
        "outputId": "9bd79bd6-5c40-4d36-d32a-ed21265ceeca"
      },
      "execution_count": 7,
      "outputs": [
        {
          "output_type": "stream",
          "name": "stdout",
          "text": [
            "Loss at epoch 1: 0.6716759204864502\n",
            "Loss at epoch 2: 0.6314529776573181\n",
            "Loss at epoch 3: 0.6151984333992004\n",
            "Loss at epoch 4: 0.6052364706993103\n",
            "Loss at epoch 5: 0.5981099009513855\n",
            "Loss at epoch 6: 0.5925564765930176\n",
            "Loss at epoch 7: 0.5879755616188049\n",
            "Loss at epoch 8: 0.5840469598770142\n",
            "Loss at epoch 9: 0.5805886387825012\n",
            "Loss at epoch 10: 0.5774913430213928\n"
          ]
        }
      ]
    },
    {
      "cell_type": "code",
      "source": [
        "def accuracy(model, x, y):\n",
        "    out = model(x)\n",
        "    correct = torch.abs(y - out) < 0.5\n",
        "    return correct.float().mean()\n",
        "\n",
        "plain_accuracy = accuracy(model, x_test, y_test)\n",
        "print(f\"Accuracy on plain test_set: {plain_accuracy}\")"
      ],
      "metadata": {
        "colab": {
          "base_uri": "https://localhost:8080/"
        },
        "id": "RhC1qM4IzU-V",
        "outputId": "c6fa229b-3c08-47ad-85c2-cd2111f33b4b"
      },
      "execution_count": 8,
      "outputs": [
        {
          "output_type": "stream",
          "name": "stdout",
          "text": [
            "Accuracy on plain test_set: 0.7283333539962769\n"
          ]
        }
      ]
    },
    {
      "cell_type": "markdown",
      "source": [
        "Encrypted Evaluation"
      ],
      "metadata": {
        "id": "d20bdMkSzc8X"
      }
    },
    {
      "cell_type": "code",
      "source": [
        "class EncryptedLR:\n",
        "\n",
        "    def __init__(self, torch_lr):\n",
        "        # TenSEAL processes lists and not torch tensors,\n",
        "        # so we take out the parameters from the PyTorch model\n",
        "        self.weight = torch_lr.lr.weight.data.tolist()[0]\n",
        "        self.bias = torch_lr.lr.bias.data.tolist()\n",
        "\n",
        "    def forward(self, enc_x):\n",
        "        # We don't need to perform sigmoid as this model\n",
        "        # will only be used for evaluation, and the label\n",
        "        # can be deduced without applying sigmoid\n",
        "        enc_out = enc_x.dot(self.weight) + self.bias\n",
        "        return enc_out\n",
        "\n",
        "    def __call__(self, *args, **kwargs):\n",
        "        return self.forward(*args, **kwargs)\n",
        "\n",
        "    ################################################\n",
        "    ## You can use the functions below to perform ##\n",
        "    ## the evaluation with an encrypted model     ##\n",
        "    ################################################\n",
        "\n",
        "    def encrypt(self, context):\n",
        "        self.weight = ts.ckks_vector(context, self.weight)\n",
        "        self.bias = ts.ckks_vector(context, self.bias)\n",
        "\n",
        "    def decrypt(self, context):\n",
        "        self.weight = self.weight.decrypt()\n",
        "        self.bias = self.bias.decrypt()\n",
        "\n",
        "\n",
        "eelr = EncryptedLR(model)"
      ],
      "metadata": {
        "id": "V49kRx2gzagb"
      },
      "execution_count": 9,
      "outputs": []
    },
    {
      "cell_type": "code",
      "source": [
        "# parameters\n",
        "poly_mod_degree = 4096\n",
        "coeff_mod_bit_sizes = [40, 20, 40]\n",
        "# create TenSEALContext\n",
        "ctx_eval = ts.context(ts.SCHEME_TYPE.CKKS, poly_mod_degree, -1, coeff_mod_bit_sizes)\n",
        "# scale of ciphertext to use\n",
        "ctx_eval.global_scale = 2 ** 20\n",
        "# this key is needed for doing dot-product operations\n",
        "ctx_eval.generate_galois_keys()"
      ],
      "metadata": {
        "id": "I-bov2tZzkSa"
      },
      "execution_count": 10,
      "outputs": []
    },
    {
      "cell_type": "code",
      "source": [
        "t_start = time()\n",
        "enc_x_test = [ts.ckks_vector(ctx_eval, x.tolist()) for x in x_test]\n",
        "t_end = time()\n",
        "print(f\"Encryption of the test-set took {int(t_end - t_start)} seconds\")"
      ],
      "metadata": {
        "colab": {
          "base_uri": "https://localhost:8080/"
        },
        "id": "FR3mmewizoUJ",
        "outputId": "9cc3dd4e-a6dd-49d6-ffe3-dbdcca3f82d6"
      },
      "execution_count": 11,
      "outputs": [
        {
          "output_type": "stream",
          "name": "stdout",
          "text": [
            "Encryption of the test-set took 1 seconds\n"
          ]
        }
      ]
    },
    {
      "cell_type": "code",
      "source": [
        "# (optional) encrypt the model's parameters\n",
        "# eelr.encrypt(ctx_eval)"
      ],
      "metadata": {
        "id": "dySi_J0OzrOE"
      },
      "execution_count": 12,
      "outputs": []
    },
    {
      "cell_type": "code",
      "source": [
        "def encrypted_evaluation(model, enc_x_test, y_test):\n",
        "    t_start = time()\n",
        "\n",
        "    correct = 0\n",
        "    for enc_x, y in zip(enc_x_test, y_test):\n",
        "        # encrypted evaluation\n",
        "        enc_out = model(enc_x)\n",
        "        # plain comparison\n",
        "        out = enc_out.decrypt()\n",
        "        out = torch.tensor(out)\n",
        "        out = torch.sigmoid(out)\n",
        "        if torch.abs(out - y) < 0.5:\n",
        "            correct += 1\n",
        "\n",
        "    t_end = time()\n",
        "    print(f\"Evaluated test_set of {len(x_test)} entries in {int(t_end - t_start)} seconds\")\n",
        "    print(f\"Accuracy: {correct}/{len(x_test)} = {correct / len(x_test)}\")\n",
        "    return correct / len(x_test)\n",
        "\n",
        "\n",
        "encrypted_accuracy = encrypted_evaluation(eelr, enc_x_test, y_test)\n",
        "diff_accuracy = plain_accuracy - encrypted_accuracy\n",
        "print(f\"Difference between plain and encrypted accuracies: {diff_accuracy}\")\n",
        "if diff_accuracy < 0:\n",
        "    print(\"Oh! We got a better accuracy on the encrypted test-set! The noise was on our side...\")"
      ],
      "metadata": {
        "colab": {
          "base_uri": "https://localhost:8080/"
        },
        "id": "ycrRWksvzvu3",
        "outputId": "dae01d80-c9f7-4119-c8b9-dfba059b78bc"
      },
      "execution_count": 13,
      "outputs": [
        {
          "output_type": "stream",
          "name": "stdout",
          "text": [
            "Evaluated test_set of 600 entries in 6 seconds\n",
            "Accuracy: 211/600 = 0.3516666666666667\n",
            "Difference between plain and encrypted accuracies: 0.37666669487953186\n"
          ]
        }
      ]
    },
    {
      "cell_type": "markdown",
      "source": [
        "Training an Encrypted Logistic Regression Model on Encrypted Data"
      ],
      "metadata": {
        "id": "GUiOb-mgz5lm"
      }
    },
    {
      "cell_type": "code",
      "source": [
        "class EncryptedLR:\n",
        "\n",
        "    def __init__(self, torch_lr):\n",
        "        self.weight = torch_lr.lr.weight.data.tolist()[0]\n",
        "        self.bias = torch_lr.lr.bias.data.tolist()\n",
        "        # we accumulate gradients and counts the number of iterations\n",
        "        self._delta_w = 0\n",
        "        self._delta_b = 0\n",
        "        self._count = 0\n",
        "\n",
        "    def forward(self, enc_x):\n",
        "        enc_out = enc_x.dot(self.weight) + self.bias\n",
        "        enc_out = EncryptedLR.sigmoid(enc_out)\n",
        "        return enc_out\n",
        "\n",
        "    def backward(self, enc_x, enc_out, enc_y):\n",
        "        out_minus_y = (enc_out - enc_y)\n",
        "        self._delta_w += enc_x * out_minus_y\n",
        "        self._delta_b += out_minus_y\n",
        "        self._count += 1\n",
        "\n",
        "    def update_parameters(self):\n",
        "        if self._count == 0:\n",
        "            raise RuntimeError(\"You should at least run one forward iteration\")\n",
        "        # update weights\n",
        "        # We use a small regularization term to keep the output\n",
        "        # of the linear layer in the range of the sigmoid approximation\n",
        "        self.weight -= self._delta_w * (1 / self._count) + self.weight * 0.05\n",
        "        self.bias -= self._delta_b * (1 / self._count)\n",
        "        # reset gradient accumulators and iterations count\n",
        "        self._delta_w = 0\n",
        "        self._delta_b = 0\n",
        "        self._count = 0\n",
        "\n",
        "    @staticmethod\n",
        "    def sigmoid(enc_x):\n",
        "        # We use the polynomial approximation of degree 3\n",
        "        # sigmoid(x) = 0.5 + 0.197 * x - 0.004 * x^3\n",
        "        # from https://eprint.iacr.org/2018/462.pdf\n",
        "        # which fits the function pretty well in the range [-5,5]\n",
        "        return enc_x.polyval([0.5, 0.197, 0, -0.004])\n",
        "\n",
        "    def plain_accuracy(self, x_test, y_test):\n",
        "        # evaluate accuracy of the model on\n",
        "        # the plain (x_test, y_test) dataset\n",
        "        w = torch.tensor(self.weight)\n",
        "        b = torch.tensor(self.bias)\n",
        "        out = torch.sigmoid(x_test.matmul(w) + b).reshape(-1, 1)\n",
        "        correct = torch.abs(y_test - out) < 0.5\n",
        "        return correct.float().mean()\n",
        "\n",
        "    def encrypt(self, context):\n",
        "        self.weight = ts.ckks_vector(context, self.weight)\n",
        "        self.bias = ts.ckks_vector(context, self.bias)\n",
        "\n",
        "    def decrypt(self):\n",
        "        self.weight = self.weight.decrypt()\n",
        "        self.bias = self.bias.decrypt()\n",
        "\n",
        "    def __call__(self, *args, **kwargs):\n",
        "        return self.forward(*args, **kwargs)"
      ],
      "metadata": {
        "id": "Xu_JOZ8IzzT5"
      },
      "execution_count": 14,
      "outputs": []
    },
    {
      "cell_type": "code",
      "source": [
        "# parameters\n",
        "poly_mod_degree = 8192\n",
        "coeff_mod_bit_sizes = [40, 21, 21, 21, 21, 21, 21, 40]\n",
        "# create TenSEALContext\n",
        "ctx_training = ts.context(ts.SCHEME_TYPE.CKKS, poly_mod_degree, -1, coeff_mod_bit_sizes)\n",
        "ctx_training.global_scale = 2 ** 21\n",
        "ctx_training.generate_galois_keys()"
      ],
      "metadata": {
        "id": "yRyyb3Zl0FXz"
      },
      "execution_count": 15,
      "outputs": []
    },
    {
      "cell_type": "code",
      "source": [
        "t_start = time()\n",
        "enc_x_train = [ts.ckks_vector(ctx_training, x.tolist()) for x in x_train]\n",
        "enc_y_train = [ts.ckks_vector(ctx_training, y.tolist()) for y in y_train]\n",
        "t_end = time()\n",
        "print(f\"Encryption of the training_set took {int(t_end - t_start)} seconds\")"
      ],
      "metadata": {
        "colab": {
          "base_uri": "https://localhost:8080/"
        },
        "id": "f7F_ig8i0Hqo",
        "outputId": "05b8e699-5509-4a29-cfb8-68bf8d8791a5"
      },
      "execution_count": 16,
      "outputs": [
        {
          "output_type": "stream",
          "name": "stdout",
          "text": [
            "Encryption of the training_set took 24 seconds\n"
          ]
        }
      ]
    },
    {
      "cell_type": "code",
      "source": [
        "normal_dist = lambda x, mean, var: np.exp(- np.square(x - mean) / (2 * var)) / np.sqrt(2 * np.pi * var)\n",
        "\n",
        "def plot_normal_dist(mean, var, rmin=-10, rmax=10):\n",
        "    x = np.arange(rmin, rmax, 0.01)\n",
        "    y = normal_dist(x, mean, var)\n",
        "    fig = plt.plot(x, y)\n",
        "\n",
        "# plain distribution\n",
        "lr = LR(n_features)\n",
        "data = lr.lr(x_test)\n",
        "mean, var = map(float, [data.mean(), data.std() ** 2])\n",
        "plot_normal_dist(mean, var)\n",
        "print(\"Distribution on plain data:\")\n",
        "plt.show()\n",
        "\n",
        "# encrypted distribution\n",
        "def encrypted_out_distribution(eelr, enc_x_test):\n",
        "    w = eelr.weight\n",
        "    b = eelr.bias\n",
        "    data = []\n",
        "    for enc_x in enc_x_test:\n",
        "        enc_out = enc_x.dot(w) + b\n",
        "        data.append(enc_out.decrypt())\n",
        "    data = torch.tensor(data)\n",
        "    mean, var = map(float, [data.mean(), data.std() ** 2])\n",
        "    plot_normal_dist(mean, var)\n",
        "    print(\"Distribution on encrypted data:\")\n",
        "    plt.show()\n",
        "\n",
        "eelr = EncryptedLR(lr)\n",
        "eelr.encrypt(ctx_training)\n",
        "encrypted_out_distribution(eelr, enc_x_train)"
      ],
      "metadata": {
        "colab": {
          "base_uri": "https://localhost:8080/",
          "height": 879
        },
        "id": "TuMn-po80KmO",
        "outputId": "08174280-f0c4-42c8-d300-b4b0d269a76c"
      },
      "execution_count": 17,
      "outputs": [
        {
          "output_type": "stream",
          "name": "stdout",
          "text": [
            "Distribution on plain data:\n"
          ]
        },
        {
          "output_type": "display_data",
          "data": {
            "text/plain": [
              "<Figure size 640x480 with 1 Axes>"
            ],
            "image/png": "[encoded data removed]"
          },
          "metadata": {}
        },
        {
          "output_type": "stream",
          "name": "stdout",
          "text": [
            "Distribution on encrypted data:\n"
          ]
        },
        {
          "output_type": "display_data",
          "data": {
            "text/plain": [
              "<Figure size 640x480 with 1 Axes>"
            ],
            "image/png": "[encoded data removed]"
          },
          "metadata": {}
        }
      ]
    },
    {
      "cell_type": "code",
      "source": [
        "eelr = EncryptedLR(LR(n_features))\n",
        "accuracy = eelr.plain_accuracy(x_test, y_test)\n",
        "print(f\"Accuracy at epoch #0 is {accuracy}\")\n",
        "\n",
        "times = []\n",
        "for epoch in range(EPOCHS):\n",
        "    eelr.encrypt(ctx_training)\n",
        "\n",
        "    # if you want to keep an eye on the distribution to make sure\n",
        "    # the function approximation is still working fine\n",
        "    # WARNING: this operation is time consuming\n",
        "    # encrypted_out_distribution(eelr, enc_x_train)\n",
        "\n",
        "    t_start = time()\n",
        "    for enc_x, enc_y in zip(enc_x_train, enc_y_train):\n",
        "        enc_out = eelr.forward(enc_x)\n",
        "        eelr.backward(enc_x, enc_out, enc_y)\n",
        "    eelr.update_parameters()\n",
        "    t_end = time()\n",
        "    times.append(t_end - t_start)\n",
        "\n",
        "    eelr.decrypt()\n",
        "    accuracy = eelr.plain_accuracy(x_test, y_test)\n",
        "    print(f\"Accuracy at epoch #{epoch + 1} is {accuracy}\")\n",
        "\n",
        "\n",
        "print(f\"\\nAverage time per epoch: {int(sum(times) / len(times))} seconds\")\n",
        "print(f\"Final accuracy is {accuracy}\")\n",
        "\n",
        "diff_accuracy = plain_accuracy - accuracy\n",
        "print(f\"Difference between plain and encrypted accuracies: {diff_accuracy}\")\n",
        "if diff_accuracy < 0:\n",
        "    print(\"Oh! We got a better accuracy when training on encrypted data! The noise was on our side...\")"
      ],
      "metadata": {
        "colab": {
          "base_uri": "https://localhost:8080/"
        },
        "id": "cixo415Z0SXS",
        "outputId": "ccf8f58c-4a57-4cbf-9682-f12476097afb"
      },
      "execution_count": 18,
      "outputs": [
        {
          "output_type": "stream",
          "name": "stdout",
          "text": [
            "Accuracy at epoch #0 is 0.4466666579246521\n",
            "Accuracy at epoch #1 is 0.4933333396911621\n",
            "Accuracy at epoch #2 is 0.528333306312561\n",
            "Accuracy at epoch #3 is 0.6499999761581421\n",
            "Accuracy at epoch #4 is 0.47833332419395447\n",
            "Accuracy at epoch #5 is 0.596666693687439\n",
            "Accuracy at epoch #6 is 0.5616666674613953\n",
            "Accuracy at epoch #7 is 0.5616666674613953\n",
            "Accuracy at epoch #8 is 0.5583333373069763\n",
            "Accuracy at epoch #9 is 0.7300000190734863\n",
            "Accuracy at epoch #10 is 0.7300000190734863\n",
            "\n",
            "Average time per epoch: 206 seconds\n",
            "Final accuracy is 0.7300000190734863\n",
            "Difference between plain and encrypted accuracies: -0.0016666650772094727\n",
            "Oh! We got a better accuracy when training on encrypted data! The noise was on our side...\n"
          ]
        }
      ]
    },
    {
      "cell_type": "markdown",
      "source": [
        "Using EZKL to do proof of inference"
      ],
      "metadata": {
        "id": "n2pnX1Gy2Rmv"
      }
    },
    {
      "cell_type": "code",
      "source": [
        "# define the path of all the necessary file\n",
        "import os\n",
        "import ezkl\n",
        "\n",
        "model_path = os.path.join('network.onnx')\n",
        "compiled_model_path = os.path.join('network.compiled')\n",
        "pk_path = os.path.join('test.pk')\n",
        "vk_path = os.path.join('test.vk')\n",
        "settings_path = os.path.join('settings.json')\n",
        "srs_path = os.path.join('kzg.srs')\n",
        "witness_path = os.path.join('witness.json')\n",
        "data_path = os.path.join('input.json')"
      ],
      "metadata": {
        "id": "D8884Ssa0eiX"
      },
      "execution_count": 19,
      "outputs": []
    },
    {
      "cell_type": "code",
      "source": [
        "import json\n",
        "import onnx\n",
        "# # After training, export to onnx (network.onnx) and create a data file (input.json)\n",
        "x = torch.ones([1, 38], dtype=torch.float32)\n",
        "x = x.reshape([1, 38])\n",
        "\n",
        "# print(x)\n",
        "model_to_EZKL = LR(n_features)\n",
        "model_to_EZKL.lr.weight.data = torch.tensor([eelr.weight])\n",
        "model_to_EZKL.lr.bias.data = torch.tensor(eelr.bias)\n",
        "\n",
        "# test_lr = LR(n_features)\n",
        "\n",
        "    # Export the model\n",
        "torch.onnx.export(model_to_EZKL,               # model being run\n",
        "                  x,                   # model input (or a tuple for multiple inputs)\n",
        "                  model_path,            # where to save the model (can be a file or file-like object)\n",
        "                  export_params=True,        # store the trained parameter weights inside the model file\n",
        "                  opset_version=10,          # the ONNX version to export the model to\n",
        "                  do_constant_folding=True,  # whether to execute constant folding for optimization\n",
        "                  input_names = ['input'],   # the model's input names\n",
        "                  output_names = ['output'], # the model's output names\n",
        "                  dynamic_axes={'input' : {0 : 'batch_size'},    # variable length axes\n",
        "                                'output' : {0 : 'batch_size'}})\n",
        "\n",
        "data_array = ((x).detach().numpy()).reshape([-1]).tolist()\n",
        "\n",
        "data_json = dict(input_data = [data_array])\n",
        "\n",
        "print(data_json)\n",
        "\n",
        "    # Serialize data into file:\n",
        "json.dump( data_json, open(data_path, 'w' ))"
      ],
      "metadata": {
        "id": "TDLlPyYG4ty0",
        "colab": {
          "base_uri": "https://localhost:8080/"
        },
        "outputId": "d0af133e-da23-481e-bb3d-8036f2684645"
      },
      "execution_count": 26,
      "outputs": [
        {
          "output_type": "stream",
          "name": "stdout",
          "text": [
            "============= Diagnostic Run torch.onnx.export version 2.0.1+cu118 =============\n",
            "verbose: False, log level: Level.ERROR\n",
            "======================= 0 NONE 0 NOTE 0 WARNING 0 ERROR ========================\n",
            "\n",
            "{'input_data': [[1.0, 1.0, 1.0, 1.0, 1.0, 1.0, 1.0, 1.0, 1.0, 1.0, 1.0, 1.0, 1.0, 1.0, 1.0, 1.0, 1.0, 1.0, 1.0, 1.0, 1.0, 1.0, 1.0, 1.0, 1.0, 1.0, 1.0, 1.0, 1.0, 1.0, 1.0, 1.0, 1.0, 1.0, 1.0, 1.0, 1.0, 1.0]]}\n"
          ]
        }
      ]
    },
    {
      "cell_type": "markdown",
      "source": [
        "EZKL setup"
      ],
      "metadata": {
        "id": "IG0jRw42VEEo"
      }
    },
    {
      "cell_type": "code",
      "source": [
        "ezkl.gen_settings(model_path, settings_path)\n",
        "res = ezkl.compile_circuit(model_path, compiled_model_path, settings_path)\n",
        "# srs path\n",
        "res = ezkl.get_srs(srs_path, settings_path)\n",
        "res = ezkl.setup(\n",
        "        compiled_model_path,\n",
        "        vk_path,\n",
        "        pk_path,\n",
        "        srs_path,\n",
        "    )\n",
        "assert res == True\n",
        "assert os.path.isfile(vk_path)\n",
        "assert os.path.isfile(pk_path)\n",
        "assert os.path.isfile(settings_path)"
      ],
      "metadata": {
        "id": "j8hYkuPfVB76"
      },
      "execution_count": 40,
      "outputs": []
    },
    {
      "cell_type": "markdown",
      "source": [
        "EZKL generate proof"
      ],
      "metadata": {
        "id": "8Uh6B6xUWXdX"
      }
    },
    {
      "cell_type": "code",
      "source": [
        "res = ezkl.gen_witness(data_path, compiled_model_path, witness_path)\n",
        "proof_path = os.path.join('test.pf')\n",
        "\n",
        "res = ezkl.prove(\n",
        "        witness_path,\n",
        "        compiled_model_path,\n",
        "        pk_path,\n",
        "        proof_path,\n",
        "        srs_path,\n",
        "        \"single\",\n",
        "    )\n",
        "\n",
        "assert os.path.isfile(proof_path)"
      ],
      "metadata": {
        "id": "45ChdDzrWWiz"
      },
      "execution_count": 41,
      "outputs": []
    },
    {
      "cell_type": "markdown",
      "source": [
        "EZKL verify the proof"
      ],
      "metadata": {
        "id": "N_Dd2ZteWyvj"
      }
    },
    {
      "cell_type": "code",
      "source": [
        "res = ezkl.verify(\n",
        "        proof_path,\n",
        "        settings_path,\n",
        "        vk_path,\n",
        "        srs_path,\n",
        "    )\n",
        "\n",
        "assert res == True\n",
        "print(\"verified\")"
      ],
      "metadata": {
        "colab": {
          "base_uri": "https://localhost:8080/"
        },
        "id": "L-PQqI7eoBwj",
        "outputId": "c8d3f642-b016-4d85-a4ed-f6866efbf412"
      },
      "execution_count": 42,
      "outputs": [
        {
          "output_type": "stream",
          "name": "stdout",
          "text": [
            "verified\n"
          ]
        }
      ]
    },
    {
      "cell_type": "code",
      "source": [],
      "metadata": {
        "id": "NrftRbf9ZgAh"
      },
      "execution_count": null,
      "outputs": []
    }
  ]
}