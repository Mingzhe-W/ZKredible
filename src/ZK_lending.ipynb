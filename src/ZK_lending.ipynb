{
  "cells": [
    {
      "cell_type": "markdown",
      "metadata": {
        "id": "ilQ4ttNFnXqq"
      },
      "source": [
        "# ZK lending\n",
        "This notebook illustrate the idea of ZK lending.\n",
        "\n",
        "some introduction to be added\n"
      ]
    },
    {
      "cell_type": "markdown",
      "metadata": {
        "id": "kTRHxNAtnXqs"
      },
      "source": [
        "## Setup\n",
        "\n",
        "install and import necessary libraries"
      ]
    },
    {
      "cell_type": "code",
      "source": [
        "!pip install tenseal"
      ],
      "metadata": {
        "colab": {
          "base_uri": "https://localhost:8080/"
        },
        "id": "WFEaWzrIndPa",
        "outputId": "90b266f0-ef78-4a9e-aba6-ef01656bb91c"
      },
      "execution_count": 3,
      "outputs": [
        {
          "output_type": "stream",
          "name": "stdout",
          "text": [
            "Collecting tenseal\n",
            "  Downloading tenseal-0.3.14-cp310-cp310-manylinux_2_17_x86_64.manylinux2014_x86_64.whl (4.9 MB)\n",
            "\u001b[2K     \u001b[90m━━━━━━━━━━━━━━━━━━━━━━━━━━━━━━━━━━━━━━━━\u001b[0m \u001b[32m4.9/4.9 MB\u001b[0m \u001b[31m8.0 MB/s\u001b[0m eta \u001b[36m0:00:00\u001b[0m\n",
            "\u001b[?25hInstalling collected packages: tenseal\n",
            "Successfully installed tenseal-0.3.14\n"
          ]
        }
      ]
    },
    {
      "cell_type": "code",
      "execution_count": 88,
      "metadata": {
        "id": "W9JQgNNxnXqt"
      },
      "outputs": [],
      "source": [
        "import torch\n",
        "import tenseal as ts\n",
        "import pandas as pd\n",
        "import random\n",
        "from time import time\n",
        "\n",
        "# those are optional and are not necessary for training\n",
        "import numpy as np\n",
        "import matplotlib.pyplot as plt"
      ]
    },
    {
      "cell_type": "markdown",
      "metadata": {
        "id": "3Fo7k607nXqu"
      },
      "source": [
        "We use the dataset for credit score classification from [kaggle](https://www.kaggle.com/datasets/parisrohan/credit-score-classification/data?select=train.csv).\n",
        "\n",
        "We already clean the data and for the purpose of clarity, we won't show the cleaning process here. You can check the data cleaning part in our code base\n"
      ]
    },
    {
      "cell_type": "code",
      "execution_count": 90,
      "metadata": {
        "colab": {
          "base_uri": "https://localhost:8080/"
        },
        "id": "K4M-Nux7nXqv",
        "outputId": "38d1fa2b-8885-4d2b-c2fb-6a68829a26ab"
      },
      "outputs": [
        {
          "output_type": "stream",
          "name": "stdout",
          "text": [
            "############# Data summary #############\n",
            "x_train has shape: torch.Size([100, 10])\n",
            "y_train has shape: torch.Size([100, 1])\n",
            "x_test has shape: torch.Size([50, 10])\n",
            "y_test has shape: torch.Size([50, 1])\n",
            "#######################################\n"
          ]
        }
      ],
      "source": [
        "torch.random.manual_seed(73)\n",
        "random.seed(73)\n",
        "\n",
        "\n",
        "def split_train_test(x, y, test_ratio=0.3):\n",
        "    idxs = [i for i in range(len(x))]\n",
        "    random.shuffle(idxs)\n",
        "    # delimiter between test and train data\n",
        "    delim = int(len(x) * test_ratio)\n",
        "    test_idxs, train_idxs = idxs[:delim], idxs[delim:]\n",
        "    return x[train_idxs], y[train_idxs], x[test_idxs], y[test_idxs]\n",
        "\n",
        "\n",
        "# def heart_disease_data():\n",
        "#     data = pd.read_csv(\"./data/framingham.csv\")\n",
        "#     # drop rows with missing values\n",
        "#     data = data.dropna()\n",
        "#     # drop some features\n",
        "#     data = data.drop(columns=[\"education\", \"currentSmoker\", \"BPMeds\", \"diabetes\", \"diaBP\", \"BMI\"])\n",
        "#     # balance data\n",
        "#     grouped = data.groupby('TenYearCHD')\n",
        "#     data = grouped.apply(lambda x: x.sample(grouped.size().min(), random_state=73).reset_index(drop=True))\n",
        "#     # extract labels\n",
        "#     y = torch.tensor(data[\"TenYearCHD\"].values).float().unsqueeze(1)\n",
        "#     data = data.drop(\"TenYearCHD\", 'columns')\n",
        "#     # standardize data\n",
        "#     data = (data - data.mean()) / data.std()\n",
        "#     x = torch.tensor(data.values).float()\n",
        "#     return split_train_test(x, y)\n",
        "\n",
        "\n",
        "def random_data(m=100, n=10):\n",
        "    # data separable by the line `y = x`\n",
        "    x_train = torch.randn(m, n)\n",
        "    x_test = torch.randn(m // 2, n)\n",
        "    y_train = (x_train[:, 0] >= x_train[:, 1]).float().unsqueeze(0).t()\n",
        "    y_test = (x_test[:, 0] >= x_test[:, 1]).float().unsqueeze(0).t()\n",
        "    return x_train, y_train, x_test, y_test\n",
        "\n",
        "\n",
        "# You can use whatever data you want without modification to the tutorial\n",
        "# x_train, y_train, x_test, y_test = random_data()\n",
        "x_train, y_train, x_test, y_test = random_data()\n",
        "\n",
        "print(\"############# Data summary #############\")\n",
        "print(f\"x_train has shape: {x_train.shape}\")\n",
        "print(f\"y_train has shape: {y_train.shape}\")\n",
        "print(f\"x_test has shape: {x_test.shape}\")\n",
        "print(f\"y_test has shape: {y_test.shape}\")\n",
        "print(\"#######################################\")"
      ]
    },
    {
      "cell_type": "markdown",
      "metadata": {
        "id": "TbFfipvznXq3"
      },
      "source": [
        "We saw that evaluating on the encrypted test set doesn't affect the accuracy that much. I've even seen examples where the encrypted evaluation performs better."
      ]
    },
    {
      "cell_type": "markdown",
      "metadata": {
        "id": "xBL-gRBynXq3"
      },
      "source": [
        "## Training an Encrypted Logistic Regression Model on Encrypted Data\n",
        "\n",
        "In this part we will redefine a PyTorch-like model that can both forward encrypted data, as well as backpropagate to update the weights and thus train the encrypted logistic regression model on encrypted data. Below are more details about the training.\n",
        "\n",
        "#### Loss Function\n",
        "\n",
        "We are using the binary cross entropy loss function with regularization (more about the why of regularization will follow) where $y^{(i)}$ is the i'th expected label, $\\hat{y}^{(i)}$ is the i'th output of the logistic regression model and $\\theta$ is our n-sized weight vector.\n",
        "\n",
        "$$Loss(\\theta) = - \\frac{1}{m} \\sum_{i=1}^m [y^{(i)} log(\\hat{y}^{(i)}) + (1 - y^{(i)}) log (1 - \\hat{y}^{(i)})] + \\frac{\\lambda}{2m} \\sum_{j=1}^n \\theta_j^2$$\n",
        "\n",
        "#### Parameters Update\n",
        "\n",
        "For updating the parameter, the usual rule is as follows, where $x^{(i)}$ is the i'th input data:\n",
        "\n",
        "$$\\theta_j = \\theta_j - \\alpha \\; [ \\frac{1}{m} \\sum_{i=1}^m (\\hat{y}^{(i)} - y^{(i)}) x^{(i)} + \\frac{\\lambda}{m} \\theta_j]$$\n",
        "\n",
        "However, due to homomorphic encryption constraint, we preferred to use an $\\alpha = 1$ to reduce a multiplication and set $\\frac{\\lambda}{m} = 0.05$ which gets us to the following update rule:\n",
        "\n",
        "$$\\theta_j = \\theta_j - [ \\frac{1}{m} \\sum_{i=1}^m (\\hat{y}^{(i)} - y^{(i)}) x^{(i)} + 0.05 \\theta_j]$$\n",
        "\n",
        "#### Sigmoid Approximation\n",
        "\n",
        "Since we can't simply compute sigmoid on encrypted data, we need to approximate it using a low degree polynomial, the lower the degree the better, as we aim to perform as few multiplications as possible, to be able to use smaller parameters and thus optimize computation. This tutorial uses a degree 3 polynomial from https://eprint.iacr.org/2018/462.pdf, which approximates the sigmoid function in the range $[-5,5]$.\n",
        "\n",
        "$$\\sigma(x) = 0.5 + 0.197 x - 0.004 x^3$$\n",
        "\n",
        "#### Homomorphic Encryption Parameters\n",
        "\n",
        "From the input data to the parameter update, a ciphertext will need a multiplicative depth of 6, 1 for the dot product operation, 2 for the sigmoid approximation, and 3 for the backpropagation phase (one is actually hidden in the `self._delta_w += enc_x * out_minus_y` operation in the `backward()` function, which is multiplying a 1-sized vector with an n-sized one, which requires masking the first slot and replicating it n times in the first vector). With a scale of around 20 bits, we need 6 coefficients modulus with the same bit-size as the scale, plus the last coefficient, which needs more bits, we are already out of the 4096 polynomial modulus degree (which requires < 109 total bit count of the coefficients modulus, if we consider 128-bit security), so we will use 8192. This will allow us to batch up to 4096 values in a single ciphertext, but we are far away from this limitation, so we shouldn't even think about it.\n"
      ]
    },
    {
      "cell_type": "code",
      "execution_count": 81,
      "metadata": {
        "id": "asz6OsBBnXq4"
      },
      "outputs": [],
      "source": [
        "class EncryptedLR:\n",
        "\n",
        "    def __init__(self, n_features):\n",
        "        model = torch.nn.Linear(n_features, 1)\n",
        "        self.weight = model.weight.data.tolist()[0]\n",
        "        self.bias = model.bias.data.tolist()\n",
        "        # we accumulate gradients and counts the number of iterations\n",
        "        self._delta_w = 0\n",
        "        self._delta_b = 0\n",
        "        self._count = 0\n",
        "\n",
        "    def forward(self, enc_x):\n",
        "        enc_out = enc_x.dot(self.weight) + self.bias\n",
        "        enc_out = EncryptedLR.sigmoid(enc_out)\n",
        "        return enc_out\n",
        "\n",
        "    def backward(self, enc_x, enc_out, enc_y):\n",
        "        out_minus_y = (enc_out - enc_y)\n",
        "        self._delta_w += enc_x * out_minus_y\n",
        "        self._delta_b += out_minus_y\n",
        "        self._count += 1\n",
        "\n",
        "    def update_parameters(self):\n",
        "        if self._count == 0:\n",
        "            raise RuntimeError(\"You should at least run one forward iteration\")\n",
        "        # update weights\n",
        "        # We use a small regularization term to keep the output\n",
        "        # of the linear layer in the range of the sigmoid approximation\n",
        "        self.weight -= self._delta_w * (1 / self._count) + self.weight * 0.05\n",
        "        self.bias -= self._delta_b * (1 / self._count)\n",
        "        # reset gradient accumulators and iterations count\n",
        "        self._delta_w = 0\n",
        "        self._delta_b = 0\n",
        "        self._count = 0\n",
        "\n",
        "    @staticmethod\n",
        "    def sigmoid(enc_x):\n",
        "        # We use the polynomial approximation of degree 3\n",
        "        # sigmoid(x) = 0.5 + 0.197 * x - 0.004 * x^3\n",
        "        # from https://eprint.iacr.org/2018/462.pdf\n",
        "        # which fits the function pretty well in the range [-5,5]\n",
        "        return enc_x.polyval([0.5, 0.197, 0, -0.004])\n",
        "\n",
        "    def plain_accuracy(self, x_test, y_test):\n",
        "        # evaluate accuracy of the model on\n",
        "        # the plain (x_test, y_test) dataset\n",
        "        w = torch.tensor(self.weight)\n",
        "        b = torch.tensor(self.bias)\n",
        "        out = torch.sigmoid(x_test.matmul(w) + b).reshape(-1, 1)\n",
        "        correct = torch.abs(y_test - out) < 0.5\n",
        "        return correct.float().mean()\n",
        "\n",
        "    def encrypt(self, context):\n",
        "        self.weight = ts.ckks_vector(context, self.weight)\n",
        "        self.bias = ts.ckks_vector(context, self.bias)\n",
        "\n",
        "    def decrypt(self):\n",
        "        self.weight = self.weight.decrypt()\n",
        "        self.bias = self.bias.decrypt()\n",
        "\n",
        "    def __call__(self, *args, **kwargs):\n",
        "        return self.forward(*args, **kwargs)\n"
      ]
    },
    {
      "cell_type": "code",
      "execution_count": 91,
      "metadata": {
        "id": "4nSMEp0bnXq4"
      },
      "outputs": [],
      "source": [
        "# parameters\n",
        "poly_mod_degree = 8192\n",
        "coeff_mod_bit_sizes = [40, 21, 21, 21, 21, 21, 21, 40]\n",
        "# create TenSEALContext\n",
        "ctx_training = ts.context(ts.SCHEME_TYPE.CKKS, poly_mod_degree, -1, coeff_mod_bit_sizes)\n",
        "ctx_training.global_scale = 2 ** 21\n",
        "ctx_training.generate_galois_keys()"
      ]
    },
    {
      "cell_type": "code",
      "execution_count": 92,
      "metadata": {
        "colab": {
          "base_uri": "https://localhost:8080/"
        },
        "id": "uBR9QhLLnXq4",
        "outputId": "670a4a8d-913c-4758-d6c9-d4931241c736"
      },
      "outputs": [
        {
          "output_type": "stream",
          "name": "stdout",
          "text": [
            "Encryption of the training_set took 2 seconds\n"
          ]
        }
      ],
      "source": [
        "t_start = time()\n",
        "enc_x_train = [ts.ckks_vector(ctx_training, x.tolist()) for x in x_train]\n",
        "enc_y_train = [ts.ckks_vector(ctx_training, y.tolist()) for y in y_train]\n",
        "t_end = time()\n",
        "print(f\"Encryption of the training_set took {int(t_end - t_start)} seconds\")"
      ]
    },
    {
      "cell_type": "markdown",
      "metadata": {
        "id": "R1Zk9-c1nXq5"
      },
      "source": [
        "Below we study the distribution of `x.dot(weight) + bias` in both plain and encrypted domains. Making sure that it falls into the range $[-5,5]$, which is where our sigmoid approximation is good at, and we don't want to feed it data that is out of this range so that we don't get erroneous output, which can make our training behave unpredictably. But the weights will change during the training process, and we should try to keep them as small as possible while still learning. A technique often used with logistic regression, and we do exactly this (but serving another purpose which is *generalization*), is known as *regularization*, and you might already have spotted the additional term `self.weight * 0.05` in the `update_parameters()` function, which is the result of doing regularization.\n",
        "\n",
        "To recap, since our sigmoid approximation is only good in the range $[-5,5]$, we want to have all its inputs in that range. In order to do this, we need to keep our logistic regression parameters as small as possible, so we apply regularization.\n",
        "\n",
        "**Note:** Keeping the parameters small certainly reduces the magnitude of the output, but we can also get out of range if the data wasn't standardized. You may have spotted that we standardized the data with a mean of 0 and std of 1, this was both for better performance, as well as to keep the inputs to the sigmoid in the desired range."
      ]
    },
    {
      "cell_type": "code",
      "execution_count": 93,
      "metadata": {
        "colab": {
          "base_uri": "https://localhost:8080/",
          "height": 447
        },
        "id": "x1xxfYW2nXq5",
        "outputId": "d1145878-f5af-4e1b-9e41-6742e4a595ef"
      },
      "outputs": [
        {
          "output_type": "stream",
          "name": "stdout",
          "text": [
            "Distribution on encrypted data:\n"
          ]
        },
        {
          "output_type": "display_data",
          "data": {
            "text/plain": [
              "<Figure size 640x480 with 1 Axes>"
            ],
            "image/png": "[encoded data removed]"
          },
          "metadata": {}
        }
      ],
      "source": [
        "normal_dist = lambda x, mean, var: np.exp(- np.square(x - mean) / (2 * var)) / np.sqrt(2 * np.pi * var)\n",
        "\n",
        "def plot_normal_dist(mean, var, rmin=-10, rmax=10):\n",
        "    x = np.arange(rmin, rmax, 0.01)\n",
        "    y = normal_dist(x, mean, var)\n",
        "    fig = plt.plot(x, y)\n",
        "\n",
        "# plain distribution\n",
        "# lr = LR(n_features)\n",
        "# data = lr.lr(x_test)\n",
        "# mean, var = map(float, [data.mean(), data.std() ** 2])\n",
        "# plot_normal_dist(mean, var)\n",
        "# print(\"Distribution on plain data:\")\n",
        "# plt.show()\n",
        "\n",
        "#encrypted distribution\n",
        "def encrypted_out_distribution(encrypted_logistic, enc_x_test):\n",
        "    w = encrypted_logistic.weight\n",
        "    b = encrypted_logistic.bias\n",
        "    data = []\n",
        "    for enc_x in enc_x_test:\n",
        "        enc_out = enc_x.dot(w) + b\n",
        "        data.append(enc_out.decrypt())\n",
        "    data = torch.tensor(data)\n",
        "    mean, var = map(float, [data.mean(), data.std() ** 2])\n",
        "    plot_normal_dist(mean, var)\n",
        "    print(\"Distribution on encrypted data:\")\n",
        "    plt.show()\n",
        "\n",
        "n_features = x_train.shape[1]\n",
        "\n",
        "encrypted_logistic = EncryptedLR(n_features)\n",
        "encrypted_logistic.encrypt(ctx_training)\n",
        "encrypted_out_distribution(encrypted_logistic, enc_x_train)"
      ]
    },
    {
      "cell_type": "markdown",
      "metadata": {
        "id": "fHfSgPUjnXq6"
      },
      "source": [
        "Most of the data falls into $[-5,5]$, the sigmoid approximation should be good enough!"
      ]
    },
    {
      "cell_type": "markdown",
      "metadata": {
        "id": "UsuC486dnXq6"
      },
      "source": [
        "We finally reached the last part, which is about training an encrypted logistic regression model on encrypted data! You can see that we decrypt the weights and re-encrypt them again after every epoch, this is necessary since after updating the weights at the end of the epoch, we can no longer use them to perform enough multiplications, so we need to get them back to the initial ciphertext level. In a real scenario, this would translate to sending the weights back to the secret-key holder for decryption and re-encryption. In that case, it will result in just a few Kilobytes of communication per epoch."
      ]
    },
    {
      "cell_type": "code",
      "execution_count": 95,
      "metadata": {
        "colab": {
          "base_uri": "https://localhost:8080/"
        },
        "id": "kH6LdQnsnXq7",
        "outputId": "140f0d5a-cad1-471d-e83d-2b7164629f1a"
      },
      "outputs": [
        {
          "output_type": "stream",
          "name": "stdout",
          "text": [
            "Accuracy at epoch #1 is 0.9399999976158142\n",
            "[1.015377036120562, -1.1959251731381393, -0.15128247212029075, -0.10031845901031751, -0.04793443171365424, -0.01023744801326075, 0.14224718184126958, -0.4667343890129133, 0.1015768257033605, 0.059186276666773854]\n",
            "[0.24503304160099715]\n"
          ]
        }
      ],
      "source": [
        "encrypted_logistic = EncryptedLR(n_features)\n",
        "# accuracy = eelr.plain_accuracy(x_test, y_test)\n",
        "# print(f\"Accuracy at epoch #0 is {accuracy}\")\n",
        "\n",
        "times = []\n",
        "\n",
        "## temp\n",
        "EPOCHS=1\n",
        "\n",
        "for epoch in range(EPOCHS):\n",
        "    encrypted_logistic.encrypt(ctx_training)\n",
        "\n",
        "    # if you want to keep an eye on the distribution to make sure\n",
        "    # the function approximation is still working fine\n",
        "    # WARNING: this operation is time consuming\n",
        "    # encrypted_out_distribution(eelr, enc_x_train)\n",
        "\n",
        "    t_start = time()\n",
        "    for enc_x, enc_y in zip(enc_x_train, enc_y_train):\n",
        "        enc_out = encrypted_logistic.forward(enc_x)\n",
        "        encrypted_logistic.backward(enc_x, enc_out, enc_y)\n",
        "    encrypted_logistic.update_parameters()\n",
        "    t_end = time()\n",
        "    times.append(t_end - t_start)\n",
        "\n",
        "    encrypted_logistic.decrypt()\n",
        "    accuracy = encrypted_logistic.plain_accuracy(x_test, y_test)\n",
        "    print(f\"Accuracy at epoch #{epoch + 1} is {accuracy}\")\n",
        "\n",
        "\n",
        "print(encrypted_logistic.weight)\n",
        "print(encrypted_logistic.bias)\n",
        "\n",
        "\n",
        "# print(f\"\\nAverage time per epoch: {int(sum(times) / len(times))} seconds\")\n",
        "# print(f\"Final accuracy is {accuracy}\")\n",
        "\n",
        "# diff_accuracy = plain_accuracy - accuracy\n",
        "# print(f\"Difference between plain and encrypted accuracies: {diff_accuracy}\")\n",
        "# if diff_accuracy < 0:\n",
        "#     print(\"Oh! We got a better accuracy when training on encrypted data! The noise was on our side...\")\n"
      ]
    },
    {
      "cell_type": "markdown",
      "source": [
        "## Comparision with plain Logistic Regression Model\n",
        "Now let's train a plain logistic regression model with pytorch and compare the result with model trained with homomorphic encryption"
      ],
      "metadata": {
        "id": "MaYP4kHzyocK"
      }
    },
    {
      "cell_type": "code",
      "source": [
        "class LogisticModel(torch.nn.Module):\n",
        "\n",
        "    def __init__(self, n_features):\n",
        "        super(LogisticModel, self).__init__()\n",
        "        self.linear = torch.nn.Linear(n_features, 1)\n",
        "\n",
        "    def forward(self, x):\n",
        "        out = torch.sigmoid(self.linear(x))\n",
        "        return out\n",
        "\n",
        "# defining model, optimizer and loss function\n",
        "n_features = x_train.shape[1]\n",
        "plain_logistic = LogisticModel(n_features)\n",
        "optim = torch.optim.SGD(plain_logistic.parameters(), lr=1)\n",
        "lossf = torch.nn.BCELoss()\n",
        "\n",
        "EPOCHS =5\n",
        "\n",
        "# training process\n",
        "for epoch in range(EPOCHS):\n",
        "    optim.zero_grad()\n",
        "    out = plain_logistic(x_train)\n",
        "    loss = lossf(out, y_train)\n",
        "    loss.backward()\n",
        "    optim.step()\n",
        "    print(f\"Loss at epoch {epoch + 1}: {loss.data}\")\n",
        "\n",
        "\n",
        "# print(plain_logistic.linear.weight)\n",
        "# print(plain_logistic.linear.bias)\n",
        "\n",
        "# calculate the accuracy\n",
        "def accuracy(model, x, y):\n",
        "    out = model(x)\n",
        "    correct = torch.abs(y - out) < 0.5\n",
        "    return correct.float().mean()\n",
        "\n",
        "plain_accuracy = accuracy(plain_logistic, x_test, y_test)\n",
        "print(f\"Accuracy of plain model on test_set: {plain_accuracy}\")\n",
        "\n",
        "print(plain_logistic.linear.weight)\n",
        "\n",
        "print(plain_logistic.linear.bias)\n",
        "\n",
        "\n"
      ],
      "metadata": {
        "colab": {
          "base_uri": "https://localhost:8080/"
        },
        "id": "6k8pczKf4Ho6",
        "outputId": "14f99fca-655a-4d7a-da40-38ca9e9e2491"
      },
      "execution_count": 97,
      "outputs": [
        {
          "output_type": "stream",
          "name": "stdout",
          "text": [
            "Loss at epoch 1: 0.725821852684021\n",
            "Loss at epoch 2: 0.49990516901016235\n",
            "Loss at epoch 3: 0.3958192467689514\n",
            "Loss at epoch 4: 0.33897164463996887\n",
            "Loss at epoch 5: 0.3026331067085266\n",
            "Accuracy of plain model on test_set: 0.9399999976158142\n",
            "Parameter containing:\n",
            "tensor([[ 1.0065, -0.9780, -0.0405,  0.0571,  0.1674, -0.0064, -0.0295, -0.4292,\n",
            "          0.0449,  0.1444]], requires_grad=True)\n",
            "Parameter containing:\n",
            "tensor([-0.0667], requires_grad=True)\n"
          ]
        }
      ]
    },
    {
      "cell_type": "markdown",
      "metadata": {
        "id": "7Wf6FTtAnXq8"
      },
      "source": [
        "# Convert encrypted model to ONNX format and thus can be feed into EZKL\n",
        "\n",
        "Now we do a conversion, unfortunately there is no elegant way to do so, as tenseal does not natively support exporting to ONNX format. So we have to convert it first to a pytorch logistic model, by manually assigned it's weight and bias to what we just trained in encrypted model, and then export it using pytorch's api\n"
      ]
    },
    {
      "cell_type": "code",
      "source": [
        "model_to_EZKL = LogisticModel(n_features)\n",
        "print(model_to_EZKL.linear.weight)\n",
        "print(model_to_EZKL.linear.bias)\n",
        "model_to_EZKL.linear.weight.data = torch.tensor([encrypted_logistic.weight])\n",
        "model_to_EZKL.linear.bias.data = torch.tensor(encrypted_logistic.bias)\n",
        "\n",
        "print(model_to_EZKL.linear.weight)\n",
        "print(model_to_EZKL.linear.bias)\n",
        "\n",
        "print(plain_logistic.linear.weight)\n",
        "print(plain_logistic.linear.bias)\n",
        "\n",
        "test_accuracy = accuracy(model_to_EZKL, x_test, y_test)\n",
        "print(f\"Accuracy of plain to ezkl on test_set: {test_accuracy}\")\n",
        "\n"
      ],
      "metadata": {
        "colab": {
          "base_uri": "https://localhost:8080/"
        },
        "id": "JWp-LmABHHj8",
        "outputId": "3b9b5877-7f03-464c-f0e3-b4c284c6343a"
      },
      "execution_count": 105,
      "outputs": [
        {
          "output_type": "stream",
          "name": "stdout",
          "text": [
            "Parameter containing:\n",
            "tensor([[-0.0004, -0.1120,  0.0045, -0.2022,  0.0072, -0.0397,  0.2048, -0.1929,\n",
            "          0.3028, -0.1658]], requires_grad=True)\n",
            "Parameter containing:\n",
            "tensor([0.1143], requires_grad=True)\n",
            "Parameter containing:\n",
            "tensor([[ 1.0154, -1.1959, -0.1513, -0.1003, -0.0479, -0.0102,  0.1422, -0.4667,\n",
            "          0.1016,  0.0592]], requires_grad=True)\n",
            "Parameter containing:\n",
            "tensor([0.2450], requires_grad=True)\n",
            "Parameter containing:\n",
            "tensor([[ 1.0065, -0.9780, -0.0405,  0.0571,  0.1674, -0.0064, -0.0295, -0.4292,\n",
            "          0.0449,  0.1444]], requires_grad=True)\n",
            "Parameter containing:\n",
            "tensor([-0.0667], requires_grad=True)\n",
            "Accuracy of plain to ezkl on test_set: 0.9399999976158142\n"
          ]
        }
      ]
    },
    {
      "cell_type": "code",
      "source": [],
      "metadata": {
        "id": "mXAR9J2WHIfv"
      },
      "execution_count": null,
      "outputs": []
    }
  ],
  "metadata": {
    "kernelspec": {
      "display_name": "Python 3",
      "language": "python",
      "name": "python3"
    },
    "language_info": {
      "codemirror_mode": {
        "name": "ipython",
        "version": 3
      },
      "file_extension": ".py",
      "mimetype": "text/x-python",
      "name": "python",
      "nbconvert_exporter": "python",
      "pygments_lexer": "ipython3",
      "version": "3.9.6 (default, Sep 26 2022, 11:37:49) \n[Clang 14.0.0 (clang-1400.0.29.202)]"
    },
    "vscode": {
      "interpreter": {
        "hash": "31f2aee4e71d21fbe5cf8b01ff0e069b9275f58929596ceb00d14d90e3e16cd6"
      }
    },
    "colab": {
      "provenance": []
    }
  },
  "nbformat": 4,
  "nbformat_minor": 0
}